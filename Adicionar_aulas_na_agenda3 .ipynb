{
  "nbformat": 4,
  "nbformat_minor": 0,
  "metadata": {
    "colab": {
      "name": "Adicionar aulas na agenda3.ipynb",
      "provenance": [],
      "collapsed_sections": []
    },
    "kernelspec": {
      "display_name": "Python 3",
      "name": "python3"
    },
    "language_info": {
      "name": "python"
    }
  },
  "cells": [
    {
      "cell_type": "markdown",
      "metadata": {
        "id": "SJd1YMRCjyb4"
      },
      "source": [
        "# Anvil\n",
        "\n",
        "Disponibilizar como web app"
      ]
    },
    {
      "cell_type": "code",
      "metadata": {
        "colab": {
          "base_uri": "https://localhost:8080/",
          "height": 236
        },
        "id": "8txPNSbBkGer",
        "outputId": "0cb57b9f-dccf-49ab-85f2-a270178766da"
      },
      "source": [
        "!pip install anvil-uplink\n",
        "import anvil.server\n",
        " \n",
        "anvil.server.connect(\"3KI3P5YQ6A5PZ3XJ7YTRTOJH-L5LICJ5ST42K3553\")"
      ],
      "execution_count": 9,
      "outputs": [
        {
          "output_type": "stream",
          "text": [
            "Requirement already satisfied: anvil-uplink in /usr/local/lib/python3.7/dist-packages (0.3.39)\n",
            "Requirement already satisfied: six in /usr/local/lib/python3.7/dist-packages (from anvil-uplink) (1.15.0)\n",
            "Requirement already satisfied: ws4py in /usr/local/lib/python3.7/dist-packages (from anvil-uplink) (0.5.1)\n",
            "Requirement already satisfied: future in /usr/local/lib/python3.7/dist-packages (from anvil-uplink) (0.16.0)\n",
            "Collecting argparse\n",
            "  Using cached argparse-1.4.0-py2.py3-none-any.whl (23 kB)\n",
            "Installing collected packages: argparse\n",
            "Successfully installed argparse-1.4.0\n"
          ],
          "name": "stdout"
        },
        {
          "output_type": "display_data",
          "data": {
            "application/vnd.colab-display-data+json": {
              "pip_warning": {
                "packages": [
                  "argparse"
                ]
              }
            }
          },
          "metadata": {
            "tags": []
          }
        }
      ]
    },
    {
      "cell_type": "markdown",
      "metadata": {
        "id": "wnAKwbmUUMT3"
      },
      "source": [
        "# Extrair as informações desejadas.\n",
        "\n",
        "Guarda em um dicionario de dicionarios.\n",
        "\n",
        "**Dia_da_Semana: Disciplina: [[inicio,fim],...    ]**\n",
        "\n",
        "\n",
        "\n",
        "Dia_da_Semana: dicionario\n",
        "\n",
        "\n",
        "Disciplina: valor de dia_da_semana e também um dicionario\n",
        "\n",
        "\n",
        "[[inicio,fim],...    ]: Lista de listas, valor do dicionario disciplina, tendo o inicio e o fim do horario para cada linha"
      ]
    },
    {
      "cell_type": "code",
      "metadata": {
        "id": "uXZ32GFUENnp"
      },
      "source": [
        "string = '''SEGUNDA-FEIRA\n",
        "15:10 - 16:00\t22000269 - M1 - SISTEMAS DIGITAIS AVANÇADOS\tNão informado\n",
        "16:00 - 16:50\t22000269 - M1 - SISTEMAS DIGITAIS AVANÇADOS\tNão informado\n",
        "TERÇA-FEIRA\n",
        "15:10 - 16:00\t22000270 - T1 - SISTEMAS OPERACIONAIS\tNão informado\n",
        "16:00 - 16:50\t22000270 - T1 - SISTEMAS OPERACIONAIS\tNão informado\n",
        "QUARTA-FEIRA\n",
        "15:10 - 16:00\t22000236 - T1 - ANÁLISE DE CIRCUITOS I\tNão informado\n",
        "16:00 - 16:50\t22000236 - T1 - ANÁLISE DE CIRCUITOS I\tNão informado\n",
        "SEXTA-FEIRA\n",
        "10:00 - 10:50\t22000237 - M1 - PROGRAMAÇÃO DE SISTEMAS\tNão informado\n",
        "10:50 - 11:40\t22000237 - M1 - PROGRAMAÇÃO DE SISTEMAS\tNão informado\n",
        "15:10 - 16:00\t22000189 - T1 - ENGENHARIA DE SOFTWARE I\tNão informado\n",
        "16:00 - 16:50\t22000189 - T1 - ENGENHARIA DE SOFTWARE I\tNão informado'''"
      ],
      "execution_count": 10,
      "outputs": []
    },
    {
      "cell_type": "code",
      "metadata": {
        "id": "chDYw4HrLFrA"
      },
      "source": [
        "import re \n",
        "from collections import defaultdict\n",
        "\n",
        "@anvil.server.callable\n",
        "def criar_dicionario(string):\n",
        "  linhas = string.split(sep = '\\n')\n",
        "\n",
        "  dicionario = defaultdict(lambda : [])\n",
        "\n",
        "\n",
        "  #EXTRAIR OS DIAS \n",
        "\n",
        "  for x in range(len(linhas) -1):\n",
        "    \n",
        "    extraido = re.findall(r'^[^\\d]*$',linhas[x])  #CHECA SE NÃO TEM NENHUM NÚMERO, CASO NAO TENHA, É UM DIA DA SEMANA\n",
        "    if len(extraido)>0:\n",
        "      dia = extraido\n",
        "      linha_valida = True\n",
        "      x = x+1\n",
        "      disciplina_dict = defaultdict(lambda : [])\n",
        "\n",
        "      while( linha_valida  and x< len(linhas)):\n",
        "        if(len(re.findall(r'^[^\\d]*$',linhas[x])) ==0 ):\n",
        "          \n",
        "          #EXTRAIR O NOME DA DISCIPLINA\n",
        "          \n",
        "          aux = linhas[x].split(sep = '-')[-1]\n",
        "          aux = re.findall(r'(.*)\\sNão informado',aux)\n",
        "          \n",
        "          disciplina = aux[0].strip()\n",
        "          \n",
        "\n",
        "          #EXTRAIR AS HORAS\n",
        "          \n",
        "          horas = re.findall(r'\\d{2}:\\d{2}',linhas[x])\n",
        "          \n",
        "          \n",
        "          x = x+1\n",
        "          disciplina_dict[disciplina].append(horas)\n",
        "          \n",
        "        else: \n",
        "          \n",
        "\n",
        "          linha_valida = False\n",
        "      \n",
        "      dicionario[dia[0]] = dict(disciplina_dict)\n",
        "      disciplina_dict = defaultdict(lambda : [])\n",
        "  return dict(dicionario)\n",
        "\n",
        "#dicionario = criar_dicionario(string)  \n",
        "#print(dicionario)\n",
        "\n",
        "    \n",
        "\n",
        "    \n",
        "\n",
        "\n"
      ],
      "execution_count": 11,
      "outputs": []
    },
    {
      "cell_type": "markdown",
      "metadata": {
        "id": "dylAYx5SVwvq"
      },
      "source": [
        "# Ajustar o dicionario de dicionarios:"
      ]
    },
    {
      "cell_type": "markdown",
      "metadata": {
        "id": "2mJt7-v-V2PB"
      },
      "source": [
        "## Converter os dias da semana em números:"
      ]
    },
    {
      "cell_type": "code",
      "metadata": {
        "id": "fVf3N8MWrEn7"
      },
      "source": [
        "#Converter os dias da semana em números\n",
        "\n",
        "@anvil.server.callable\n",
        "def rename_keys(d, keys):\n",
        "    return dict([(keys.get(k), v) for k, v in d.items()])\n",
        "\n",
        "conversao = {'SEGUNDA-FEIRA': 0, 'TERÇA-FEIRA':1, 'QUARTA-FEIRA':2,'QUINTA-FEIRA':3,'SEXTA-FEIRA':4,'SÁBADO':5,'DOMINGO':6, 'SABADO' : 5}\n",
        "\n",
        "#dicionario = rename_keys(dicionario,conversao)\n"
      ],
      "execution_count": 12,
      "outputs": []
    },
    {
      "cell_type": "markdown",
      "metadata": {
        "id": "_bbiNzrbWAj5"
      },
      "source": [
        "## Simplificar os horários :transformar horarios como ['15:10', '16:00'], ['16:00', '16:50'] -> Em apenas  [15:10,16:50]"
      ]
    },
    {
      "cell_type": "code",
      "metadata": {
        "id": "nVfw1EeDIuvy"
      },
      "source": [
        "\n",
        "\n",
        "# Transformar horarios como ['15:10', '16:00'], ['16:00', '16:50'] -> Em apenas  [15:10,16:50]\n",
        "\n",
        "from dateutil.rrule import rrule, WEEKLY, MO\n",
        "from datetime import date\n",
        "\n",
        "\n",
        "def ajustar(lista):\n",
        "  lista2 = list()\n",
        "  aux = list()\n",
        "\n",
        "  if len(lista) == 1:\n",
        "    return [(lista[0][0],lista[0][1])]\n",
        "\n",
        "  for x in range(len(lista) -1):\n",
        "    passou = False\n",
        "    fim = lista[x][1]\n",
        "    for y in range (x+1,len(lista)):\n",
        "      if fim == lista[y][0]:\n",
        "        passou = True\n",
        "        fim = lista[y][1]\n",
        "        \n",
        "    if passou and fim not in aux:\n",
        "      lista2.append( (lista[x][0],fim))\n",
        "      aux.append(fim)\n",
        "    else:\n",
        "      if fim not in aux:\n",
        "        lista2.append((lista[x][0], fim))\n",
        "\n",
        "  return lista2 \n",
        "\n",
        "\n"
      ],
      "execution_count": 13,
      "outputs": []
    },
    {
      "cell_type": "markdown",
      "metadata": {
        "id": "cCEyO5bHefrn"
      },
      "source": [
        "# Criar calendario do 0 com icalendar\n"
      ]
    },
    {
      "cell_type": "code",
      "metadata": {
        "colab": {
          "base_uri": "https://localhost:8080/"
        },
        "id": "2qZ7hpIHY_Es",
        "outputId": "734bbabb-a912-4f16-891d-8464cdbb5259"
      },
      "source": [
        "!pip install icalendar"
      ],
      "execution_count": 14,
      "outputs": [
        {
          "output_type": "stream",
          "text": [
            "Requirement already satisfied: icalendar in /usr/local/lib/python3.7/dist-packages (4.0.7)\n",
            "Requirement already satisfied: pytz in /usr/local/lib/python3.7/dist-packages (from icalendar) (2018.9)\n",
            "Requirement already satisfied: python-dateutil in /usr/local/lib/python3.7/dist-packages (from icalendar) (2.8.1)\n",
            "Requirement already satisfied: six>=1.5 in /usr/local/lib/python3.7/dist-packages (from python-dateutil->icalendar) (1.15.0)\n"
          ],
          "name": "stdout"
        }
      ]
    },
    {
      "cell_type": "code",
      "metadata": {
        "id": "9ybySQ5Wmjz_"
      },
      "source": [
        "#CALCULAR O PRÓXIMO DIA\n",
        "\n",
        "from dateutil.rrule import rrule, WEEKLY, MO\n",
        "from datetime import date\n",
        "\n",
        "next_monday = rrule(freq=WEEKLY, dtstart=date.today(), byweekday=6, count=1)[0]\n",
        "#next_monday.hour"
      ],
      "execution_count": 15,
      "outputs": []
    },
    {
      "cell_type": "code",
      "metadata": {
        "id": "9DNpImVVezab"
      },
      "source": [
        "from datetime import datetime, timedelta\n",
        "from icalendar import Calendar, Event,Alarm\n",
        "import pytz\n",
        "\n",
        "\n",
        "def criar_evento(cal,nome,inicio, fim): #comeco:datetime\n",
        "                                        # fim: datetime\n",
        "\n",
        "  event = Event()\n",
        "  event.add('summary', nome)\n",
        "\n",
        "  tzone = pytz.timezone('America/Sao_Paulo')\n",
        "\n",
        "  event.add('dtstart', tzone.localize(inicio, is_dst=None))\n",
        "  event.add('dtend', tzone.localize(fim, is_dst=None))\n",
        "  event.add('rrule', {'freq': ['WEEKLY']})\n",
        "\n",
        "  alarm = Alarm()\n",
        "  alarm.add('action', 'DISPLAY')\n",
        "  alarm.add('trigger', timedelta(minutes=-10))\n",
        "\n",
        "  event.add_component(alarm)\n",
        "\n",
        "  cal.add_component(event)\n",
        "\n",
        "\n",
        "inicio = [2021,8,5,10,5]\n",
        "fim = [2021,8,5,10,35]\n",
        "\n",
        "@anvil.server.callable\n",
        "def criar_ical(dicionario): \n",
        "  dicionario = rename_keys(dicionario,conversao)\n",
        "  cal = Calendar()\n",
        "\n",
        "  cal.add('prodid', '-//Google Inc//Google Calendar 70.9054//EN')\n",
        "  cal.add('version', '2.0')\n",
        "  \n",
        "\n",
        "  #---------------------- \n",
        "  for k,v in dicionario.items():\n",
        "    for key, value in v.items():\n",
        "      next_day = rrule(freq=WEEKLY, dtstart=date.today(), byweekday=k, count=1)[0]\n",
        "      time = datetime.strptime(ajustar(value)[0][0], '%H:%M')\n",
        "      end_time = datetime.strptime(ajustar(value)[0][1], '%H:%M')\n",
        "      \n",
        "      comeco = datetime(next_day.year,next_day.month,next_day.day, time.hour, time.minute)\n",
        "      fim = datetime(next_day.year,next_day.month,next_day.day, end_time.hour, end_time.minute)\n",
        "\n",
        "      criar_evento(cal,key,comeco, fim)\n",
        "  #--------------------------\n",
        "\n",
        "\n",
        "\n",
        "  with open('calendario_2021_2.ics', 'wb') as fw:\n",
        "    fw.write(cal.to_ical())\n",
        "\n",
        "  import anvil.media\n",
        "  media_obj = anvil.media.from_file('calendario_2021_2.ics')\n",
        "  return media_obj\n",
        "\n",
        "\n",
        "\n",
        "#criar_ical(dicionario) \n",
        "\n",
        "\n",
        "\n"
      ],
      "execution_count": 16,
      "outputs": []
    },
    {
      "cell_type": "code",
      "metadata": {
        "id": "X1G0zV1A4h79"
      },
      "source": [
        "anvil.server.wait_forever()"
      ],
      "execution_count": null,
      "outputs": []
    }
  ]
}