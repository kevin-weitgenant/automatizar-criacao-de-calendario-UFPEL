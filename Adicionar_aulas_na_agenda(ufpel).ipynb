{
  "nbformat": 4,
  "nbformat_minor": 0,
  "metadata": {
    "colab": {
      "name": "Adicionar_aulas_na_agenda3 (1) (3).ipynb",
      "provenance": [],
      "collapsed_sections": []
    },
    "kernelspec": {
      "display_name": "Python 3",
      "name": "python3"
    },
    "language_info": {
      "name": "python"
    }
  },
  "cells": [
    {
      "cell_type": "markdown",
      "metadata": {
        "id": "wnAKwbmUUMT3"
      },
      "source": [
        "# Extrair as informações desejadas.\n",
        "\n",
        "Guarda em um dicionario de dicionarios.\n",
        "\n",
        "**Dia_da_Semana: Disciplina: [[inicio,fim],...    ]**\n",
        "\n",
        "\n",
        "\n",
        "Dia_da_Semana: dicionario\n",
        "\n",
        "\n",
        "Disciplina: valor de dia_da_semana e também um dicionario\n",
        "\n",
        "\n",
        "[[inicio,fim],...    ]: Lista de listas, valor do dicionario disciplina, tendo o inicio e o fim do horario para cada linha"
      ]
    },
    {
      "cell_type": "code",
      "metadata": {
        "id": "uXZ32GFUENnp"
      },
      "source": [
        "string = '''SEGUNDA-FEIRA\n",
        "08:00 - 08:50\t15000441 - T1 - Redes de Computadores\tNão informado\n",
        "08:50 - 09:40\t15000441 - T1 - Redes de Computadores\tNão informado\n",
        "13:30 - 14:20\t15000275 - M1 - ELETROTÉCNICA INDUSTRIAL\tNão informado\n",
        "14:20 - 15:10\t15000275 - M1 - ELETROTÉCNICA INDUSTRIAL\tNão informado\n",
        "15:10 - 16:00\t15000365 - M1 - TEORIA ELETROMAGNÉTICA\tNão informado\n",
        "16:00 - 16:50\t15000365 - M1 - TEORIA ELETROMAGNÉTICA\tNão informado\n",
        "20:40 - 21:30\t15000403 - M1 - MECÂNICA GERAL\tNão informado\n",
        "TERÇA-FEIRA\n",
        "19:00 - 19:50\t15000447 - M4 - ESTATÍSTICA BÁSICA\tNão informado\n",
        "19:50 - 20:40\t15000447 - M4 - ESTATÍSTICA BÁSICA\tNão informado\n",
        "QUINTA-FEIRA\n",
        "15:10 - 16:00\t15000291 - T1 - ELETRÔNICA DE POTÊNCIA II\tNão informado'''"
      ],
      "execution_count": null,
      "outputs": []
    },
    {
      "cell_type": "code",
      "metadata": {
        "id": "chDYw4HrLFrA",
        "colab": {
          "base_uri": "https://localhost:8080/"
        },
        "outputId": "88aaa451-e10d-4228-ad0f-849e551fa9b9"
      },
      "source": [
        "import re \n",
        "from collections import defaultdict\n",
        "\n",
        "\n",
        "def criar_dicionario(string):\n",
        "  linhas = string.split(sep = '\\n')\n",
        "\n",
        "  dicionario = defaultdict(lambda : [])\n",
        "\n",
        "\n",
        "  #EXTRAIR OS DIAS \n",
        "\n",
        "  for x in range(len(linhas) -1):\n",
        "    \n",
        "    extraido = re.findall(r'^[^\\d]*$',linhas[x])  #CHECA SE NÃO TEM NENHUM NÚMERO, CASO NAO TENHA, É UM DIA DA SEMANA\n",
        "    if len(extraido)>0:\n",
        "      dia = extraido\n",
        "      linha_valida = True\n",
        "      x = x+1\n",
        "      disciplina_dict = defaultdict(lambda : [])\n",
        "\n",
        "      while( linha_valida  and x< len(linhas)):\n",
        "        if(len(re.findall(r'^[^\\d]*$',linhas[x])) ==0 ):\n",
        "          \n",
        "          #EXTRAIR O NOME DA DISCIPLINA\n",
        "          \n",
        "          aux = linhas[x].split(sep = '-')[-1]\n",
        "          aux = re.findall(r'(.*)\\sNão informado',aux)\n",
        "          \n",
        "          disciplina = aux[0].strip()\n",
        "          \n",
        "\n",
        "          #EXTRAIR AS HORAS\n",
        "          \n",
        "          horas = re.findall(r'\\d{2}:\\d{2}',linhas[x])\n",
        "          \n",
        "          \n",
        "          x = x+1\n",
        "          disciplina_dict[disciplina].append(horas)\n",
        "          \n",
        "        else: \n",
        "          \n",
        "\n",
        "          linha_valida = False\n",
        "      \n",
        "      dicionario[dia[0]] = dict(disciplina_dict)\n",
        "      disciplina_dict = defaultdict(lambda : [])\n",
        "  return dict(dicionario)\n",
        "\n",
        "dicionario = criar_dicionario(string)  \n",
        "print(dicionario)\n",
        "\n",
        "    \n",
        "\n",
        "    \n",
        "\n",
        "\n"
      ],
      "execution_count": null,
      "outputs": [
        {
          "output_type": "stream",
          "text": [
            "{'SEGUNDA-FEIRA': {'Redes de Computadores': [['08:00', '08:50'], ['08:50', '09:40']], 'ELETROTÉCNICA INDUSTRIAL': [['13:30', '14:20'], ['14:20', '15:10']], 'TEORIA ELETROMAGNÉTICA': [['15:10', '16:00'], ['16:00', '16:50']], 'MECÂNICA GERAL': [['20:40', '21:30']]}, 'TERÇA-FEIRA': {'ESTATÍSTICA BÁSICA': [['19:00', '19:50'], ['19:50', '20:40']]}, 'QUINTA-FEIRA': {'ELETRÔNICA DE POTÊNCIA II': [['15:10', '16:00']]}}\n"
          ],
          "name": "stdout"
        }
      ]
    },
    {
      "cell_type": "markdown",
      "metadata": {
        "id": "dylAYx5SVwvq"
      },
      "source": [
        "# Ajustar o dicionario de dicionarios:"
      ]
    },
    {
      "cell_type": "markdown",
      "metadata": {
        "id": "2mJt7-v-V2PB"
      },
      "source": [
        "## Converter os dias da semana em números:"
      ]
    },
    {
      "cell_type": "code",
      "metadata": {
        "id": "fVf3N8MWrEn7"
      },
      "source": [
        "#Converter os dias da semana em números\n",
        "\n",
        "\n",
        "def rename_keys(d, keys):\n",
        "    return dict([(keys.get(k), v) for k, v in d.items()])\n",
        "\n",
        "conversao = {'SEGUNDA-FEIRA': 0, 'TERÇA-FEIRA':1, 'QUARTA-FEIRA':2,'QUINTA-FEIRA':3,'SEXTA-FEIRA':4,'SÁBADO':5,'DOMINGO':6, 'SABADO' : 5}\n",
        "\n",
        "#dicionario = rename_keys(dicionario,conversao)\n"
      ],
      "execution_count": null,
      "outputs": []
    },
    {
      "cell_type": "markdown",
      "metadata": {
        "id": "_bbiNzrbWAj5"
      },
      "source": [
        "## Simplificar os horários :transformar horarios como ['15:10', '16:00'], ['16:00', '16:50'] -> Em apenas  [15:10,16:50]"
      ]
    },
    {
      "cell_type": "code",
      "metadata": {
        "id": "nVfw1EeDIuvy",
        "colab": {
          "base_uri": "https://localhost:8080/"
        },
        "outputId": "45dc8d2e-51d8-4509-f39e-4d8aa4dcb618"
      },
      "source": [
        "\n",
        "\n",
        "# Transformar horarios como ['15:10', '16:00'], ['16:00', '16:50'] -> Em apenas  [15:10,16:50]\n",
        "\n",
        "from dateutil.rrule import rrule, WEEKLY, MO\n",
        "from datetime import date\n",
        "\n",
        "\n",
        "def ajustar(lista):\n",
        "  lista2 = list()\n",
        "  aux = list()\n",
        "\n",
        "  if len(lista) == 1:\n",
        "    return [(lista[0][0],lista[0][1])]\n",
        "\n",
        "  for x in range(len(lista) -1):\n",
        "    passou = False\n",
        "    fim = lista[x][1]\n",
        "    for y in range (x+1,len(lista)):\n",
        "      if fim == lista[y][0]:\n",
        "        passou = True\n",
        "        fim = lista[y][1]\n",
        "        \n",
        "    if passou and fim not in aux:\n",
        "      lista2.append( (lista[x][0],fim))\n",
        "      aux.append(fim)\n",
        "    else:\n",
        "      if fim not in aux:\n",
        "        lista2.append((lista[x][0], fim))\n",
        "\n",
        "  return lista2\n",
        "\n",
        "\n",
        "ajustar([['19:50', '20:40'],['20:40','20:40']])\n",
        "\n",
        "\n"
      ],
      "execution_count": null,
      "outputs": [
        {
          "output_type": "execute_result",
          "data": {
            "text/plain": [
              "[('19:50', '20:40')]"
            ]
          },
          "metadata": {
            "tags": []
          },
          "execution_count": 68
        }
      ]
    },
    {
      "cell_type": "code",
      "metadata": {
        "colab": {
          "base_uri": "https://localhost:8080/"
        },
        "id": "6S35fimFQ703",
        "outputId": "412c5a57-3d17-442b-a224-d7fddf552040"
      },
      "source": [
        "teste = [['19:50', '20:40']]\n",
        "len(teste)"
      ],
      "execution_count": null,
      "outputs": [
        {
          "output_type": "execute_result",
          "data": {
            "text/plain": [
              "1"
            ]
          },
          "metadata": {
            "tags": []
          },
          "execution_count": 69
        }
      ]
    },
    {
      "cell_type": "markdown",
      "metadata": {
        "id": "cCEyO5bHefrn"
      },
      "source": [
        "# Criar calendario do 0 com icalendar\n"
      ]
    },
    {
      "cell_type": "code",
      "metadata": {
        "colab": {
          "base_uri": "https://localhost:8080/"
        },
        "id": "2qZ7hpIHY_Es",
        "outputId": "ec7c1ea0-9580-4525-ed3b-0c29735e43ee"
      },
      "source": [
        "!pip install icalendar"
      ],
      "execution_count": null,
      "outputs": [
        {
          "output_type": "stream",
          "text": [
            "Requirement already satisfied: icalendar in /usr/local/lib/python3.7/dist-packages (4.0.7)\n",
            "Requirement already satisfied: pytz in /usr/local/lib/python3.7/dist-packages (from icalendar) (2018.9)\n",
            "Requirement already satisfied: python-dateutil in /usr/local/lib/python3.7/dist-packages (from icalendar) (2.8.1)\n",
            "Requirement already satisfied: six>=1.5 in /usr/local/lib/python3.7/dist-packages (from python-dateutil->icalendar) (1.15.0)\n"
          ],
          "name": "stdout"
        }
      ]
    },
    {
      "cell_type": "code",
      "metadata": {
        "id": "9ybySQ5Wmjz_"
      },
      "source": [
        "#CALCULAR O PRÓXIMO DIA\n",
        "\n",
        "from dateutil.rrule import rrule, WEEKLY, MO\n",
        "from datetime import date\n",
        "\n",
        "next_monday = rrule(freq=WEEKLY, dtstart=date.today(), byweekday=6, count=1)[0]\n",
        "#next_monday.hour"
      ],
      "execution_count": null,
      "outputs": []
    },
    {
      "cell_type": "code",
      "metadata": {
        "id": "9DNpImVVezab"
      },
      "source": [
        "from datetime import datetime, timedelta\n",
        "from icalendar import Calendar, Event,Alarm\n",
        "import pytz\n",
        "\n",
        "\n",
        "def criar_evento(cal,nome,inicio, fim): #comeco:datetime\n",
        "                                        # fim: datetime\n",
        "\n",
        "  event = Event()\n",
        "  event.add('summary', nome)\n",
        "\n",
        "  tzone = pytz.timezone('America/Sao_Paulo')\n",
        "\n",
        "  event.add('dtstart', tzone.localize(inicio, is_dst=None))\n",
        "  event.add('dtend', tzone.localize(fim, is_dst=None))\n",
        "  event.add('rrule', {'freq': ['WEEKLY']})\n",
        "\n",
        "  alarm = Alarm()\n",
        "  alarm.add('action', 'DISPLAY')\n",
        "  alarm.add('trigger', timedelta(minutes=-10))\n",
        "\n",
        "  event.add_component(alarm)\n",
        "\n",
        "  cal.add_component(event)\n",
        "\n",
        "\n",
        "inicio = [2021,8,5,10,5]\n",
        "fim = [2021,8,5,10,35]\n",
        "\n",
        "\n",
        "def criar_ical(dicionario): \n",
        "  dicionario = rename_keys(dicionario,conversao)\n",
        "  cal = Calendar()\n",
        "\n",
        "  cal.add('prodid', '-//Google Inc//Google Calendar 70.9054//EN')\n",
        "  cal.add('version', '2.0')\n",
        "  \n",
        "\n",
        "  #---------------------- Passar pelo dicionario de dicionarios, ajustar as horas e criar o evento\n",
        "  for k,v in dicionario.items():\n",
        "    for key, value in v.items():\n",
        "      next_day = rrule(freq=WEEKLY, dtstart=date.today(), byweekday=k, count=1)[0]\n",
        "      time = datetime.strptime(ajustar(value)[0][0], '%H:%M')\n",
        "      end_time = datetime.strptime(ajustar(value)[0][1], '%H:%M')\n",
        "      \n",
        "      comeco = datetime(next_day.year,next_day.month,next_day.day, time.hour, time.minute)\n",
        "      fim = datetime(next_day.year,next_day.month,next_day.day, end_time.hour, end_time.minute)\n",
        "\n",
        "      criar_evento(cal,key,comeco, fim)\n",
        "  #--------------------------\n",
        "\n",
        "\n",
        "\n",
        "  with open('calendario_2021_2.ics', 'wb') as fw:\n",
        "    fw.write(cal.to_ical())\n",
        "\n",
        " \n",
        "\n",
        "\n",
        "\n",
        "criar_ical(dicionario) "
      ],
      "execution_count": null,
      "outputs": []
    }
  ]
}